{
  "nbformat": 4,
  "nbformat_minor": 0,
  "metadata": {
    "colab": {
      "name": "buger_shack.ipynb",
      "provenance": [],
      "include_colab_link": true
    },
    "kernelspec": {
      "name": "python3",
      "display_name": "Python 3"
    },
    "language_info": {
      "name": "python"
    }
  },
  "cells": [
    {
      "cell_type": "markdown",
      "metadata": {
        "id": "view-in-github",
        "colab_type": "text"
      },
      "source": [
        "<a href=\"https://colab.research.google.com/github/riaagarwal21/Burger-Shack/blob/main/buger_shack.ipynb\" target=\"_parent\"><img src=\"https://colab.research.google.com/assets/colab-badge.svg\" alt=\"Open In Colab\"/></a>"
      ]
    },
    {
      "cell_type": "code",
      "execution_count": null,
      "metadata": {
        "id": "wvSFxj6A44-A"
      },
      "outputs": [],
      "source": [
        "#Creating an Abstract Class\n",
        "from abc import ABC, abstractmethod\n",
        "class Burger(ABC):\n",
        "  @abstractmethod\n",
        "  def prep_cost(self):\n",
        "    pass\n",
        "\n",
        "  @abstractmethod\n",
        "  def sell_price(self):\n",
        "    pass\n",
        "  \n",
        "  @abstractmethod\n",
        "  def time(self):\n",
        "    pass"
      ]
    },
    {
      "cell_type": "code",
      "source": [
        "#Creating Sub-Class to the Abstract Class\n",
        "class Veg_Burger(Burger):\n",
        "  #overriding abstract class methods\n",
        "  def prep_cost(self):\n",
        "    return 50 \n",
        "\n",
        "  def sell_price(self):\n",
        "    return 75\n",
        "\n",
        "  def time(self):\n",
        "    return 5"
      ],
      "metadata": {
        "id": "O14tW5-W5jDu"
      },
      "execution_count": null,
      "outputs": []
    },
    {
      "cell_type": "code",
      "source": [
        "#Creating Sub-Class to the Abstract Class\n",
        "class Vegan_Burger(Burger):\n",
        "  #overriding abstract class methods\n",
        "  def prep_cost(self):\n",
        "    return 80\n",
        "\n",
        "  def sell_price(self):\n",
        "    return 135\n",
        "\n",
        "  def time(self):\n",
        "    return 4"
      ],
      "metadata": {
        "id": "xrbK3iWw5lmy"
      },
      "execution_count": null,
      "outputs": []
    },
    {
      "cell_type": "code",
      "source": [
        "#Creating Sub-Class to the Abstract Class\n",
        "class NonVeg_Burger(Burger):\n",
        "  #overriding abstract class methods\n",
        "  def prep_cost(self):\n",
        "    return 75\n",
        "\n",
        "  def sell_price(self):\n",
        "    return 120\n",
        "\n",
        "  def time(self):\n",
        "    return 10"
      ],
      "metadata": {
        "id": "fXT0mLMG5pfV"
      },
      "execution_count": null,
      "outputs": []
    },
    {
      "cell_type": "code",
      "source": [
        "#Using Factory Design Method\n",
        "class BurgerFactory:\n",
        "\n",
        "  @staticmethod\n",
        "  def make_burger(burger_type):\n",
        "    if burger_type == \"Veg\":\n",
        "      return Veg_Burger()\n",
        "    if burger_type == \"Non-Veg\":\n",
        "      return NonVeg_Burger()\n",
        "    if burger_type == \"Vegan\":\n",
        "      return Vegan_Burger()\n",
        "    print(\"Invalid Type\")\n",
        "    return -1"
      ],
      "metadata": {
        "id": "S8YS95tT5wS7"
      },
      "execution_count": null,
      "outputs": []
    },
    {
      "cell_type": "code",
      "source": [
        "#Creating a Customer Class\n",
        "class customerOrder:\n",
        "  \n",
        "  def __init__(self):\n",
        "    self.Order = []\n",
        "\n",
        "  \n",
        "  def prep_time(self):\n",
        "    preptime =0\n",
        "    for x in self.Order:\n",
        "      preptime = preptime + x.time()\n",
        "    return preptime\n",
        "\n",
        "  def get_profits(self):\n",
        "    profit =0\n",
        "    for x in self.Order:\n",
        "      profit = profit + x.sell_price() - x.prep_cost()\n",
        "    return profit"
      ],
      "metadata": {
        "id": "64G3Y2Jm59uk"
      },
      "execution_count": null,
      "outputs": []
    },
    {
      "cell_type": "code",
      "source": [
        "0#List for today's orders\n",
        "BurgerOrder = []\n",
        "\n",
        "customer = 1\n",
        "while customer == 1:\n",
        "  order = customerOrder()\n",
        "  print(\"Welcome to Burger Shack!\")\n",
        "  print(\"-\" * 30)\n",
        "  print(\"Menu\")\n",
        "  print(\"-\" * 30)\n",
        "  print(\"1. Veg\")\n",
        "  print(\"2. Non-Veg\")\n",
        "  print(\"3. Vegan\")\n",
        "  \n",
        "  item = 1\n",
        "  while item == 1:\n",
        "    choice = input(\"What do you want to order? \")\n",
        "    order.Order.append(BurgerFactory.make_burger(choice))\n",
        "    item = int(input(\"Anything Else? If yes, enter 1; else 0: \"))\n",
        "  \n",
        "  BurgerOrder.append(order)\n",
        "  print(\"Time to your order: \", order.prep_time()) \n",
        "\n",
        "  customer = int(input(\"Do you have a new customer? If yes, enter 1; else 0: \"))\n",
        "\n",
        "totalProfit =0\n",
        "for _order in BurgerOrder:\n",
        "  totalProfit = totalProfit + _order.get_profits()\n",
        "\n",
        "print(\"Day profit\", totalProfit)"
      ],
      "metadata": {
        "colab": {
          "base_uri": "https://localhost:8080/"
        },
        "id": "Q1XoJW_Q7P0Q",
        "outputId": "66a8ebd0-4361-4e18-c80a-20382da109df"
      },
      "execution_count": null,
      "outputs": [
        {
          "output_type": "stream",
          "name": "stdout",
          "text": [
            "Welcome to Burger Shack!\n",
            "------------------------------\n",
            "Menu\n",
            "------------------------------\n",
            "1. Veg\n",
            "2. Non-Veg\n",
            "3. Vegan\n",
            "What do you want to order? Veg\n",
            "Anything Else? If yes, enter 1; else 0: 1\n",
            "What do you want to order? Non-Veg\n",
            "Anything Else? If yes, enter 1; else 0: 1\n",
            "What do you want to order? Veg\n",
            "Anything Else? If yes, enter 1; else 0: 0\n",
            "Time to your order:  20\n",
            "Do you have a new customer? If yes, enter 1; else 0: 1\n",
            "Welcome to Burger Shack!\n",
            "------------------------------\n",
            "Menu\n",
            "------------------------------\n",
            "1. Veg\n",
            "2. Non-Veg\n",
            "3. Vegan\n",
            "What do you want to order? Veg\n",
            "Anything Else? If yes, enter 1; else 0: 1\n",
            "What do you want to order? Non-Veg\n",
            "Anything Else? If yes, enter 1; else 0: 1\n",
            "What do you want to order? Non-Veg\n",
            "Anything Else? If yes, enter 1; else 0: 1\n",
            "What do you want to order? Veg\n",
            "Anything Else? If yes, enter 1; else 0: 0\n",
            "Time to your order:  30\n",
            "Do you have a new customer? If yes, enter 1; else 0: 0\n",
            "Day profit 235\n"
          ]
        }
      ]
    }
  ]
}